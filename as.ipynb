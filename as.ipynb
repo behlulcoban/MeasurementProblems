{
 "cells": [
  {
   "cell_type": "code",
   "execution_count": null,
   "id": "initial_id",
   "metadata": {
    "collapsed": true,
    "is_executing": true
   },
   "outputs": [],
   "source": []
  },
  {
   "cell_type": "code",
   "outputs": [],
   "source": [
    "import pandas as pd\n",
    "pd.set_option('display.max_columns', None)\n",
    "# pd.set_option('display.max_rows', None)\n",
    "pd.set_option('display.width', 500)\n",
    "# çıktının tek bir satırda olmasını sağlar.\n",
    "pd.set_option('display.expand_frame_repr', False)\n",
    "from mlxtend.frequent_patterns import apriori, association_rules\n",
    "\n",
    "# https://archive.ics.uci.edu/ml/datasets/Online+Retail+II"
   ],
   "metadata": {
    "collapsed": false,
    "is_executing": true
   },
   "id": "44ce4da5f98bf5cf"
  },
  {
   "cell_type": "markdown",
   "source": [],
   "metadata": {
    "collapsed": false
   },
   "id": "a513d1490d8dcc65"
  },
  {
   "cell_type": "code",
   "outputs": [],
   "source": [
    "df_ = pd.read_excel(\"datasets/online_retail_II.xlsx\",\n",
    "                    sheet_name=\"Year 2010-2011\")"
   ],
   "metadata": {
    "collapsed": false
   },
   "id": "ef13aacc8636e61e"
  },
  {
   "cell_type": "code",
   "outputs": [],
   "source": [],
   "metadata": {
    "collapsed": false
   },
   "id": "c99b93c127a2dd0c"
  }
 ],
 "metadata": {
  "kernelspec": {
   "display_name": "Python 3",
   "language": "python",
   "name": "python3"
  },
  "language_info": {
   "codemirror_mode": {
    "name": "ipython",
    "version": 2
   },
   "file_extension": ".py",
   "mimetype": "text/x-python",
   "name": "python",
   "nbconvert_exporter": "python",
   "pygments_lexer": "ipython2",
   "version": "2.7.6"
  }
 },
 "nbformat": 4,
 "nbformat_minor": 5
}
