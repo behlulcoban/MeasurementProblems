{
 "cells": [
  {
   "cell_type": "code",
   "outputs": [],
   "source": [
    "import pandas as pd\n",
    "from mlxtend.frequent_patterns import apriori, association_rules"
   ],
   "metadata": {
    "collapsed": false,
    "ExecuteTime": {
     "end_time": "2024-01-21T20:52:00.229116500Z",
     "start_time": "2024-01-21T20:51:59.350299100Z"
    }
   },
   "id": "3b387c10ba191c9a",
   "execution_count": 1
  },
  {
   "cell_type": "code",
   "outputs": [],
   "source": [
    "df_ = pd.read_excel(\"datasets/online_retail_II.xlsx\",\n",
    "                    sheet_name=\"Year 2010-2011\")\n",
    "df = df_.copy()"
   ],
   "metadata": {
    "collapsed": false,
    "ExecuteTime": {
     "end_time": "2024-01-21T20:52:59.359251800Z",
     "start_time": "2024-01-21T20:52:03.431239300Z"
    }
   },
   "id": "dc9d41930369d8c3",
   "execution_count": 2
  },
  {
   "cell_type": "code",
   "outputs": [
    {
     "data": {
      "text/plain": "  Invoice StockCode                          Description  Quantity  \\\n0  536365    85123A   WHITE HANGING HEART T-LIGHT HOLDER         6   \n1  536365     71053                  WHITE METAL LANTERN         6   \n2  536365    84406B       CREAM CUPID HEARTS COAT HANGER         8   \n3  536365    84029G  KNITTED UNION FLAG HOT WATER BOTTLE         6   \n4  536365    84029E       RED WOOLLY HOTTIE WHITE HEART.         6   \n\n          InvoiceDate  Price  Customer ID         Country  \n0 2010-12-01 08:26:00   2.55      17850.0  United Kingdom  \n1 2010-12-01 08:26:00   3.39      17850.0  United Kingdom  \n2 2010-12-01 08:26:00   2.75      17850.0  United Kingdom  \n3 2010-12-01 08:26:00   3.39      17850.0  United Kingdom  \n4 2010-12-01 08:26:00   3.39      17850.0  United Kingdom  ",
      "text/html": "<div>\n<style scoped>\n    .dataframe tbody tr th:only-of-type {\n        vertical-align: middle;\n    }\n\n    .dataframe tbody tr th {\n        vertical-align: top;\n    }\n\n    .dataframe thead th {\n        text-align: right;\n    }\n</style>\n<table border=\"1\" class=\"dataframe\">\n  <thead>\n    <tr style=\"text-align: right;\">\n      <th></th>\n      <th>Invoice</th>\n      <th>StockCode</th>\n      <th>Description</th>\n      <th>Quantity</th>\n      <th>InvoiceDate</th>\n      <th>Price</th>\n      <th>Customer ID</th>\n      <th>Country</th>\n    </tr>\n  </thead>\n  <tbody>\n    <tr>\n      <th>0</th>\n      <td>536365</td>\n      <td>85123A</td>\n      <td>WHITE HANGING HEART T-LIGHT HOLDER</td>\n      <td>6</td>\n      <td>2010-12-01 08:26:00</td>\n      <td>2.55</td>\n      <td>17850.0</td>\n      <td>United Kingdom</td>\n    </tr>\n    <tr>\n      <th>1</th>\n      <td>536365</td>\n      <td>71053</td>\n      <td>WHITE METAL LANTERN</td>\n      <td>6</td>\n      <td>2010-12-01 08:26:00</td>\n      <td>3.39</td>\n      <td>17850.0</td>\n      <td>United Kingdom</td>\n    </tr>\n    <tr>\n      <th>2</th>\n      <td>536365</td>\n      <td>84406B</td>\n      <td>CREAM CUPID HEARTS COAT HANGER</td>\n      <td>8</td>\n      <td>2010-12-01 08:26:00</td>\n      <td>2.75</td>\n      <td>17850.0</td>\n      <td>United Kingdom</td>\n    </tr>\n    <tr>\n      <th>3</th>\n      <td>536365</td>\n      <td>84029G</td>\n      <td>KNITTED UNION FLAG HOT WATER BOTTLE</td>\n      <td>6</td>\n      <td>2010-12-01 08:26:00</td>\n      <td>3.39</td>\n      <td>17850.0</td>\n      <td>United Kingdom</td>\n    </tr>\n    <tr>\n      <th>4</th>\n      <td>536365</td>\n      <td>84029E</td>\n      <td>RED WOOLLY HOTTIE WHITE HEART.</td>\n      <td>6</td>\n      <td>2010-12-01 08:26:00</td>\n      <td>3.39</td>\n      <td>17850.0</td>\n      <td>United Kingdom</td>\n    </tr>\n  </tbody>\n</table>\n</div>"
     },
     "execution_count": 3,
     "metadata": {},
     "output_type": "execute_result"
    }
   ],
   "source": [
    "df.head()"
   ],
   "metadata": {
    "collapsed": false,
    "ExecuteTime": {
     "end_time": "2024-01-21T20:53:11.789843700Z",
     "start_time": "2024-01-21T20:53:11.721151600Z"
    }
   },
   "id": "1a1160b20cf6e063",
   "execution_count": 3
  },
  {
   "cell_type": "code",
   "outputs": [
    {
     "data": {
      "text/plain": "                count          mean          std       min       25%  \\\nQuantity     541910.0      9.552234   218.080957 -80995.00      1.00   \nPrice        541910.0      4.611138    96.759765 -11062.06      1.25   \nCustomer ID  406830.0  15287.684160  1713.603074  12346.00  13953.00   \n\n                  50%       75%      max  \nQuantity         3.00     10.00  80995.0  \nPrice            2.08      4.13  38970.0  \nCustomer ID  15152.00  16791.00  18287.0  ",
      "text/html": "<div>\n<style scoped>\n    .dataframe tbody tr th:only-of-type {\n        vertical-align: middle;\n    }\n\n    .dataframe tbody tr th {\n        vertical-align: top;\n    }\n\n    .dataframe thead th {\n        text-align: right;\n    }\n</style>\n<table border=\"1\" class=\"dataframe\">\n  <thead>\n    <tr style=\"text-align: right;\">\n      <th></th>\n      <th>count</th>\n      <th>mean</th>\n      <th>std</th>\n      <th>min</th>\n      <th>25%</th>\n      <th>50%</th>\n      <th>75%</th>\n      <th>max</th>\n    </tr>\n  </thead>\n  <tbody>\n    <tr>\n      <th>Quantity</th>\n      <td>541910.0</td>\n      <td>9.552234</td>\n      <td>218.080957</td>\n      <td>-80995.00</td>\n      <td>1.00</td>\n      <td>3.00</td>\n      <td>10.00</td>\n      <td>80995.0</td>\n    </tr>\n    <tr>\n      <th>Price</th>\n      <td>541910.0</td>\n      <td>4.611138</td>\n      <td>96.759765</td>\n      <td>-11062.06</td>\n      <td>1.25</td>\n      <td>2.08</td>\n      <td>4.13</td>\n      <td>38970.0</td>\n    </tr>\n    <tr>\n      <th>Customer ID</th>\n      <td>406830.0</td>\n      <td>15287.684160</td>\n      <td>1713.603074</td>\n      <td>12346.00</td>\n      <td>13953.00</td>\n      <td>15152.00</td>\n      <td>16791.00</td>\n      <td>18287.0</td>\n    </tr>\n  </tbody>\n</table>\n</div>"
     },
     "execution_count": 4,
     "metadata": {},
     "output_type": "execute_result"
    }
   ],
   "source": [
    "df.describe().T\n"
   ],
   "metadata": {
    "collapsed": false,
    "ExecuteTime": {
     "end_time": "2024-01-21T20:53:30.476583600Z",
     "start_time": "2024-01-21T20:53:30.400722400Z"
    }
   },
   "id": "da5511053fba404",
   "execution_count": 4
  },
  {
   "cell_type": "code",
   "outputs": [
    {
     "name": "stdout",
     "output_type": "stream",
     "text": [
      "['DOGGY RUBBER']\n"
     ]
    },
    {
     "name": "stderr",
     "output_type": "stream",
     "text": [
      "C:\\Users\\behlul\\anaconda3\\lib\\site-packages\\mlxtend\\frequent_patterns\\fpcommon.py:110: DeprecationWarning: DataFrames with non-bool types result in worse computationalperformance and their support might be discontinued in the future.Please use a DataFrame with bool type\n",
      "  warnings.warn(\n"
     ]
    },
    {
     "ename": "KeyboardInterrupt",
     "evalue": "",
     "output_type": "error",
     "traceback": [
      "\u001B[1;31m---------------------------------------------------------------------------\u001B[0m",
      "\u001B[1;31mKeyboardInterrupt\u001B[0m                         Traceback (most recent call last)",
      "Cell \u001B[1;32mIn[5], line 95\u001B[0m\n\u001B[0;32m     89\u001B[0m check_id(df_fr, \u001B[38;5;241m10120\u001B[39m)\n\u001B[0;32m     91\u001B[0m \u001B[38;5;66;03m############################################\u001B[39;00m\n\u001B[0;32m     92\u001B[0m \u001B[38;5;66;03m# 3. Birliktelik Kurallarının Çıkarılması\u001B[39;00m\n\u001B[0;32m     93\u001B[0m \u001B[38;5;66;03m############################################\u001B[39;00m\n\u001B[1;32m---> 95\u001B[0m frequent_itemsets \u001B[38;5;241m=\u001B[39m \u001B[43mapriori\u001B[49m\u001B[43m(\u001B[49m\u001B[43mfr_inv_pro_df\u001B[49m\u001B[43m,\u001B[49m\u001B[43m \u001B[49m\u001B[43mmin_support\u001B[49m\u001B[38;5;241;43m=\u001B[39;49m\u001B[38;5;241;43m0.01\u001B[39;49m\u001B[43m,\u001B[49m\u001B[43m \u001B[49m\u001B[43muse_colnames\u001B[49m\u001B[38;5;241;43m=\u001B[39;49m\u001B[38;5;28;43;01mTrue\u001B[39;49;00m\u001B[43m)\u001B[49m\n\u001B[0;32m     97\u001B[0m frequent_itemsets\u001B[38;5;241m.\u001B[39msort_values(\u001B[38;5;124m\"\u001B[39m\u001B[38;5;124msupport\u001B[39m\u001B[38;5;124m\"\u001B[39m, ascending\u001B[38;5;241m=\u001B[39m\u001B[38;5;28;01mFalse\u001B[39;00m)\n\u001B[0;32m     99\u001B[0m rules \u001B[38;5;241m=\u001B[39m association_rules(frequent_itemsets,\n\u001B[0;32m    100\u001B[0m                           metric\u001B[38;5;241m=\u001B[39m\u001B[38;5;124m\"\u001B[39m\u001B[38;5;124msupport\u001B[39m\u001B[38;5;124m\"\u001B[39m,\n\u001B[0;32m    101\u001B[0m                           min_threshold\u001B[38;5;241m=\u001B[39m\u001B[38;5;241m0.01\u001B[39m)\n",
      "File \u001B[1;32m~\\anaconda3\\lib\\site-packages\\mlxtend\\frequent_patterns\\apriori.py:309\u001B[0m, in \u001B[0;36mapriori\u001B[1;34m(df, min_support, use_colnames, max_len, verbose, low_memory)\u001B[0m\n\u001B[0;32m    307\u001B[0m         _bools \u001B[38;5;241m=\u001B[39m _bools \u001B[38;5;241m&\u001B[39m (X[:, combin[:, n]] \u001B[38;5;241m==\u001B[39m all_ones)\n\u001B[0;32m    308\u001B[0m \u001B[38;5;28;01melse\u001B[39;00m:\n\u001B[1;32m--> 309\u001B[0m     _bools \u001B[38;5;241m=\u001B[39m \u001B[43mnp\u001B[49m\u001B[38;5;241;43m.\u001B[39;49m\u001B[43mall\u001B[49m\u001B[43m(\u001B[49m\u001B[43mX\u001B[49m\u001B[43m[\u001B[49m\u001B[43m:\u001B[49m\u001B[43m,\u001B[49m\u001B[43m \u001B[49m\u001B[43mcombin\u001B[49m\u001B[43m]\u001B[49m\u001B[43m,\u001B[49m\u001B[43m \u001B[49m\u001B[43maxis\u001B[49m\u001B[38;5;241;43m=\u001B[39;49m\u001B[38;5;241;43m2\u001B[39;49m\u001B[43m)\u001B[49m\n\u001B[0;32m    311\u001B[0m support \u001B[38;5;241m=\u001B[39m _support(np\u001B[38;5;241m.\u001B[39marray(_bools), rows_count, is_sparse)\n\u001B[0;32m    312\u001B[0m _mask \u001B[38;5;241m=\u001B[39m (support \u001B[38;5;241m>\u001B[39m\u001B[38;5;241m=\u001B[39m min_support)\u001B[38;5;241m.\u001B[39mreshape(\u001B[38;5;241m-\u001B[39m\u001B[38;5;241m1\u001B[39m)\n",
      "File \u001B[1;32m<__array_function__ internals>:177\u001B[0m, in \u001B[0;36mall\u001B[1;34m(*args, **kwargs)\u001B[0m\n",
      "\u001B[1;31mKeyboardInterrupt\u001B[0m: "
     ]
    }
   ],
   "source": [
    "df.isnull().sum()\n",
    "df.shape\n",
    "\n",
    "def retail_data_prep(dataframe):\n",
    "    dataframe.dropna(inplace=True)\n",
    "    dataframe = dataframe[~dataframe[\"Invoice\"].str.contains(\"C\", na=False)]\n",
    "    dataframe = dataframe[dataframe[\"Quantity\"] > 0]\n",
    "    dataframe = dataframe[dataframe[\"Price\"] > 0]\n",
    "    return dataframe\n",
    "\n",
    "df = retail_data_prep(df)\n",
    "\n",
    "\n",
    "def outlier_thresholds(dataframe, variable):\n",
    "    quartile1 = dataframe[variable].quantile(0.01)\n",
    "    quartile3 = dataframe[variable].quantile(0.99)\n",
    "    interquantile_range = quartile3 - quartile1\n",
    "    up_limit = quartile3 + 1.5 * interquantile_range\n",
    "    low_limit = quartile1 - 1.5 * interquantile_range\n",
    "    return low_limit, up_limit\n",
    "\n",
    "def replace_with_thresholds(dataframe, variable):\n",
    "    low_limit, up_limit = outlier_thresholds(dataframe, variable)\n",
    "    dataframe.loc[(dataframe[variable] < low_limit), variable] = low_limit\n",
    "    dataframe.loc[(dataframe[variable] > up_limit), variable] = up_limit\n",
    "\n",
    "def retail_data_prep(dataframe):\n",
    "    dataframe.dropna(inplace=True)\n",
    "    dataframe = dataframe[~dataframe[\"Invoice\"].astype(str).str.contains(\"C\", na = False)]\n",
    "    dataframe = dataframe[dataframe[\"Quantity\"] > 0]\n",
    "    dataframe = dataframe[dataframe[\"Price\"] > 0]\n",
    "    replace_with_thresholds(dataframe, \"Quantity\")\n",
    "    replace_with_thresholds(dataframe, \"Price\")\n",
    "    return dataframe\n",
    "\n",
    "df = retail_data_prep(df)\n",
    "df.isnull().sum()\n",
    "df.describe().T\n",
    "\n",
    "\n",
    "############################################\n",
    "# 2. ARL Veri Yapısını Hazırlama (Invoice-Product Matrix)\n",
    "############################################\n",
    "\n",
    "df.head()\n",
    "\n",
    "# Description   NINE DRAWER OFFICE TIDY   SET 2 TEA TOWELS I LOVE LONDON    SPACEBOY BABY GIFT SET\n",
    "# Invoice\n",
    "# 536370                              0                                 1                       0\n",
    "# 536852                              1                                 0                       1\n",
    "# 536974                              0                                 0                       0\n",
    "# 537065                              1                                 0                       0\n",
    "# 537463                              0                                 0                       1\n",
    "\n",
    "\n",
    "df_fr = df[df['Country'] == \"France\"]\n",
    "\n",
    "df_fr.groupby(['Invoice', 'Description']).agg({\"Quantity\": \"sum\"}).head(20)\n",
    "\n",
    "df_fr.groupby(['Invoice', 'Description']).agg({\"Quantity\": \"sum\"}).unstack().iloc[0:5, 0:5]\n",
    "\n",
    "df_fr.groupby(['Invoice', 'Description']).agg({\"Quantity\": \"sum\"}).unstack().fillna(0).iloc[0:5, 0:5]\n",
    "\n",
    "df_fr.groupby(['Invoice', 'StockCode']). \\\n",
    "    agg({\"Quantity\": \"sum\"}). \\\n",
    "    unstack(). \\\n",
    "    fillna(0). \\\n",
    "    applymap(lambda x: 1 if x > 0 else 0).iloc[0:5, 0:5]\n",
    "\n",
    "\n",
    "def create_invoice_product_df(dataframe, id=False):\n",
    "    if id:\n",
    "        return dataframe.groupby(['Invoice', \"StockCode\"])['Quantity'].sum().unstack().fillna(0). \\\n",
    "            applymap(lambda x: 1 if x > 0 else 0)\n",
    "    else:\n",
    "        return dataframe.groupby(['Invoice', 'Description'])['Quantity'].sum().unstack().fillna(0). \\\n",
    "            applymap(lambda x: 1 if x > 0 else 0)\n",
    "\n",
    "fr_inv_pro_df = create_invoice_product_df(df_fr)\n",
    "\n",
    "fr_inv_pro_df = create_invoice_product_df(df_fr, id=True)\n",
    "\n",
    "\n",
    "def check_id(dataframe, stock_code):\n",
    "    product_name = dataframe[dataframe[\"StockCode\"] == stock_code][[\"Description\"]].values[0].tolist()\n",
    "    print(product_name)\n",
    "\n",
    "\n",
    "check_id(df_fr, 10120)\n",
    "\n",
    "############################################\n",
    "# 3. Birliktelik Kurallarının Çıkarılması\n",
    "############################################\n",
    "\n",
    "frequent_itemsets = apriori(fr_inv_pro_df, min_support=0.01, use_colnames=True)\n",
    "\n",
    "frequent_itemsets.sort_values(\"support\", ascending=False)\n",
    "\n",
    "rules = association_rules(frequent_itemsets,\n",
    "                          metric=\"support\",\n",
    "                          min_threshold=0.01)\n",
    "\n",
    "rules[(rules[\"support\"]>0.05) & (rules[\"confidence\"]>0.1) & (rules[\"lift\"]>5)]\n",
    "\n",
    "check_id(df_fr, 21086)\n",
    "\n",
    "rules[(rules[\"support\"]>0.05) & (rules[\"confidence\"]>0.1) & (rules[\"lift\"]>5)]. \\\n",
    "sort_values(\"confidence\", ascending=False)\n",
    "\n",
    "############################################\n",
    "# 4. Çalışmanın Scriptini Hazırlama\n",
    "############################################\n",
    "\n",
    "def outlier_thresholds(dataframe, variable):\n",
    "    quartile1 = dataframe[variable].quantile(0.01)\n",
    "    quartile3 = dataframe[variable].quantile(0.99)\n",
    "    interquantile_range = quartile3 - quartile1\n",
    "    up_limit = quartile3 + 1.5 * interquantile_range\n",
    "    low_limit = quartile1 - 1.5 * interquantile_range\n",
    "    return low_limit, up_limit\n",
    "\n",
    "def replace_with_thresholds(dataframe, variable):\n",
    "    low_limit, up_limit = outlier_thresholds(dataframe, variable)\n",
    "    dataframe.loc[(dataframe[variable] < low_limit), variable] = low_limit\n",
    "    dataframe.loc[(dataframe[variable] > up_limit), variable] = up_limit\n",
    "\n",
    "def retail_data_prep(dataframe):\n",
    "    dataframe.dropna(inplace=True)\n",
    "    dataframe = dataframe[~dataframe[\"Invoice\"].str.contains(\"C\", na=False)]\n",
    "    dataframe = dataframe[dataframe[\"Quantity\"] > 0]\n",
    "    dataframe = dataframe[dataframe[\"Price\"] > 0]\n",
    "    replace_with_thresholds(dataframe, \"Quantity\")\n",
    "    replace_with_thresholds(dataframe, \"Price\")\n",
    "    return dataframe\n",
    "def create_invoice_product_df(dataframe, id=False):\n",
    "    if id:\n",
    "        return dataframe.groupby(['Invoice', \"StockCode\"])['Quantity'].sum().unstack().fillna(0). \\\n",
    "            applymap(lambda x: 1 if x > 0 else 0)\n",
    "    else:\n",
    "        return dataframe.groupby(['Invoice', 'Description'])['Quantity'].sum().unstack().fillna(0). \\\n",
    "            applymap(lambda x: 1 if x > 0 else 0)\n",
    "\n",
    "def check_id(dataframe, stock_code):\n",
    "    product_name = dataframe[dataframe[\"StockCode\"] == stock_code][[\"Description\"]].values[0].tolist()\n",
    "    print(product_name)\n",
    "\n",
    "def create_rules(dataframe, id=True, country=\"France\"):\n",
    "    dataframe = dataframe[dataframe[\"Country\"] == country]\n",
    "    dataframe = create_invoice_product_df(dataframe, id)\n",
    "    frequent_itemsets = apriori(dataframe, min_support=0.01, use_colnames=True)\n",
    "    rules = association_rules(frequent_itemsets,metric=\"support\",min_threshold=0.01)\n",
    "    return rules\n",
    "\n",
    "df= df_.copy()\n",
    "\n",
    "df = retail_data_prep(df)\n",
    "rules = create_rules(df)\n",
    "\n",
    "############################################\n",
    "# 5. Sepet Aşamasındaki Kullanıcılara Ürün Önerisinde Bulunmak\n",
    "############################################\n",
    "\n",
    "\n",
    "# Örnek:\n",
    "# Kullanıcı örnek ürün id: 22492\n",
    "\n",
    "product_id = 22492\n",
    "check_id(df,product_id)\n",
    "\n",
    "sorted_rules = rules.sort_values(\"lift\", ascending=False)\n",
    "\n",
    "recommendation_list = []\n",
    "\n",
    "for i, product in enumerate(sorted_rules[\"antecedents\"]):\n",
    "    for j in list(product):\n",
    "        if j == product_id:\n",
    "            recommendation_list.append(list(sorted_rules.iloc[i][\"consequents\"])[0])\n",
    "\n",
    "recommendation_list[0:2]\n",
    "\n",
    "def arl_recommender(rules_df, product_id, rec_count=1):\n",
    "    sorted_rules = rules_df.sort_values(\"lift\", ascending=False)\n",
    "    recommendation_list = []\n",
    "    for i, product in enumerate(sorted_rules[\"antecedents\"]):\n",
    "        for j in list(product):\n",
    "            if j == product_id:\n",
    "                recommendation_list.append(list(sorted_rules.iloc[i][\"consequents\"])[0])\n",
    "    return recommendation_list[0:rec_count]\n",
    "\n",
    "arl_recommender(sorted_rules, product_id=22492, rec_count=2)"
   ],
   "metadata": {
    "collapsed": false,
    "ExecuteTime": {
     "end_time": "2024-01-21T20:55:04.277951100Z",
     "start_time": "2024-01-21T20:54:39.171199500Z"
    }
   },
   "id": "dc1f636f15a9ec44",
   "execution_count": 5
  },
  {
   "cell_type": "code",
   "outputs": [],
   "source": [],
   "metadata": {
    "collapsed": false
   },
   "id": "19e84ca20eb0bf10"
  }
 ],
 "metadata": {
  "kernelspec": {
   "display_name": "Python 3",
   "language": "python",
   "name": "python3"
  },
  "language_info": {
   "codemirror_mode": {
    "name": "ipython",
    "version": 2
   },
   "file_extension": ".py",
   "mimetype": "text/x-python",
   "name": "python",
   "nbconvert_exporter": "python",
   "pygments_lexer": "ipython2",
   "version": "2.7.6"
  }
 },
 "nbformat": 4,
 "nbformat_minor": 5
}
