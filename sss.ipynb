{
 "cells": [
  {
   "cell_type": "code",
   "outputs": [],
   "source": [
    "import pandas as pd\n",
    "from mlxtend.frequent_patterns import apriori, association_rules"
   ],
   "metadata": {
    "collapsed": false,
    "ExecuteTime": {
     "end_time": "2024-01-21T20:52:00.229116500Z",
     "start_time": "2024-01-21T20:51:59.350299100Z"
    }
   },
   "id": "3b387c10ba191c9a",
   "execution_count": 1
  },
  {
   "cell_type": "code",
   "outputs": [],
   "source": [
    "df_ = pd.read_excel(\"datasets/online_retail_II.xlsx\",\n",
    "                    sheet_name=\"Year 2010-2011\")\n",
    "df = df_.copy()"
   ],
   "metadata": {
    "collapsed": false,
    "ExecuteTime": {
     "end_time": "2024-01-21T20:52:59.359251800Z",
     "start_time": "2024-01-21T20:52:03.431239300Z"
    }
   },
   "id": "dc9d41930369d8c3",
   "execution_count": 2
  },
  {
   "cell_type": "code",
   "outputs": [
    {
     "data": {
      "text/plain": "  Invoice StockCode                          Description  Quantity  \\\n0  536365    85123A   WHITE HANGING HEART T-LIGHT HOLDER         6   \n1  536365     71053                  WHITE METAL LANTERN         6   \n2  536365    84406B       CREAM CUPID HEARTS COAT HANGER         8   \n3  536365    84029G  KNITTED UNION FLAG HOT WATER BOTTLE         6   \n4  536365    84029E       RED WOOLLY HOTTIE WHITE HEART.         6   \n\n          InvoiceDate  Price  Customer ID         Country  \n0 2010-12-01 08:26:00   2.55      17850.0  United Kingdom  \n1 2010-12-01 08:26:00   3.39      17850.0  United Kingdom  \n2 2010-12-01 08:26:00   2.75      17850.0  United Kingdom  \n3 2010-12-01 08:26:00   3.39      17850.0  United Kingdom  \n4 2010-12-01 08:26:00   3.39      17850.0  United Kingdom  ",
      "text/html": "<div>\n<style scoped>\n    .dataframe tbody tr th:only-of-type {\n        vertical-align: middle;\n    }\n\n    .dataframe tbody tr th {\n        vertical-align: top;\n    }\n\n    .dataframe thead th {\n        text-align: right;\n    }\n</style>\n<table border=\"1\" class=\"dataframe\">\n  <thead>\n    <tr style=\"text-align: right;\">\n      <th></th>\n      <th>Invoice</th>\n      <th>StockCode</th>\n      <th>Description</th>\n      <th>Quantity</th>\n      <th>InvoiceDate</th>\n      <th>Price</th>\n      <th>Customer ID</th>\n      <th>Country</th>\n    </tr>\n  </thead>\n  <tbody>\n    <tr>\n      <th>0</th>\n      <td>536365</td>\n      <td>85123A</td>\n      <td>WHITE HANGING HEART T-LIGHT HOLDER</td>\n      <td>6</td>\n      <td>2010-12-01 08:26:00</td>\n      <td>2.55</td>\n      <td>17850.0</td>\n      <td>United Kingdom</td>\n    </tr>\n    <tr>\n      <th>1</th>\n      <td>536365</td>\n      <td>71053</td>\n      <td>WHITE METAL LANTERN</td>\n      <td>6</td>\n      <td>2010-12-01 08:26:00</td>\n      <td>3.39</td>\n      <td>17850.0</td>\n      <td>United Kingdom</td>\n    </tr>\n    <tr>\n      <th>2</th>\n      <td>536365</td>\n      <td>84406B</td>\n      <td>CREAM CUPID HEARTS COAT HANGER</td>\n      <td>8</td>\n      <td>2010-12-01 08:26:00</td>\n      <td>2.75</td>\n      <td>17850.0</td>\n      <td>United Kingdom</td>\n    </tr>\n    <tr>\n      <th>3</th>\n      <td>536365</td>\n      <td>84029G</td>\n      <td>KNITTED UNION FLAG HOT WATER BOTTLE</td>\n      <td>6</td>\n      <td>2010-12-01 08:26:00</td>\n      <td>3.39</td>\n      <td>17850.0</td>\n      <td>United Kingdom</td>\n    </tr>\n    <tr>\n      <th>4</th>\n      <td>536365</td>\n      <td>84029E</td>\n      <td>RED WOOLLY HOTTIE WHITE HEART.</td>\n      <td>6</td>\n      <td>2010-12-01 08:26:00</td>\n      <td>3.39</td>\n      <td>17850.0</td>\n      <td>United Kingdom</td>\n    </tr>\n  </tbody>\n</table>\n</div>"
     },
     "execution_count": 3,
     "metadata": {},
     "output_type": "execute_result"
    }
   ],
   "source": [
    "df.head()"
   ],
   "metadata": {
    "collapsed": false,
    "ExecuteTime": {
     "end_time": "2024-01-21T20:53:11.789843700Z",
     "start_time": "2024-01-21T20:53:11.721151600Z"
    }
   },
   "id": "1a1160b20cf6e063",
   "execution_count": 3
  },
  {
   "cell_type": "code",
   "outputs": [
    {
     "data": {
      "text/plain": "                count          mean          std       min       25%  \\\nQuantity     541910.0      9.552234   218.080957 -80995.00      1.00   \nPrice        541910.0      4.611138    96.759765 -11062.06      1.25   \nCustomer ID  406830.0  15287.684160  1713.603074  12346.00  13953.00   \n\n                  50%       75%      max  \nQuantity         3.00     10.00  80995.0  \nPrice            2.08      4.13  38970.0  \nCustomer ID  15152.00  16791.00  18287.0  ",
      "text/html": "<div>\n<style scoped>\n    .dataframe tbody tr th:only-of-type {\n        vertical-align: middle;\n    }\n\n    .dataframe tbody tr th {\n        vertical-align: top;\n    }\n\n    .dataframe thead th {\n        text-align: right;\n    }\n</style>\n<table border=\"1\" class=\"dataframe\">\n  <thead>\n    <tr style=\"text-align: right;\">\n      <th></th>\n      <th>count</th>\n      <th>mean</th>\n      <th>std</th>\n      <th>min</th>\n      <th>25%</th>\n      <th>50%</th>\n      <th>75%</th>\n      <th>max</th>\n    </tr>\n  </thead>\n  <tbody>\n    <tr>\n      <th>Quantity</th>\n      <td>541910.0</td>\n      <td>9.552234</td>\n      <td>218.080957</td>\n      <td>-80995.00</td>\n      <td>1.00</td>\n      <td>3.00</td>\n      <td>10.00</td>\n      <td>80995.0</td>\n    </tr>\n    <tr>\n      <th>Price</th>\n      <td>541910.0</td>\n      <td>4.611138</td>\n      <td>96.759765</td>\n      <td>-11062.06</td>\n      <td>1.25</td>\n      <td>2.08</td>\n      <td>4.13</td>\n      <td>38970.0</td>\n    </tr>\n    <tr>\n      <th>Customer ID</th>\n      <td>406830.0</td>\n      <td>15287.684160</td>\n      <td>1713.603074</td>\n      <td>12346.00</td>\n      <td>13953.00</td>\n      <td>15152.00</td>\n      <td>16791.00</td>\n      <td>18287.0</td>\n    </tr>\n  </tbody>\n</table>\n</div>"
     },
     "execution_count": 4,
     "metadata": {},
     "output_type": "execute_result"
    }
   ],
   "source": [
    "df.describe().T\n"
   ],
   "metadata": {
    "collapsed": false,
    "ExecuteTime": {
     "end_time": "2024-01-21T20:53:30.476583600Z",
     "start_time": "2024-01-21T20:53:30.400722400Z"
    }
   },
   "id": "da5511053fba404",
   "execution_count": 4
  },
  {
   "cell_type": "code",
   "outputs": [],
   "source": [],
   "metadata": {
    "collapsed": false
   },
   "id": "19e84ca20eb0bf10"
  }
 ],
 "metadata": {
  "kernelspec": {
   "display_name": "Python 3",
   "language": "python",
   "name": "python3"
  },
  "language_info": {
   "codemirror_mode": {
    "name": "ipython",
    "version": 2
   },
   "file_extension": ".py",
   "mimetype": "text/x-python",
   "name": "python",
   "nbconvert_exporter": "python",
   "pygments_lexer": "ipython2",
   "version": "2.7.6"
  }
 },
 "nbformat": 4,
 "nbformat_minor": 5
}
